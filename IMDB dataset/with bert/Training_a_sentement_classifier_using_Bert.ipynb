{
 "cells": [
  {
   "cell_type": "markdown",
   "metadata": {
    "colab_type": "text",
    "id": "xHu_o9g0UbCf"
   },
   "source": [
    "## Installing necessary dependencies"
   ]
  },
  {
   "cell_type": "code",
   "execution_count": 0,
   "metadata": {
    "colab": {},
    "colab_type": "code",
    "id": "77mGytx5Uf98"
   },
   "outputs": [],
   "source": [
    "pip install transformers"
   ]
  },
  {
   "cell_type": "markdown",
   "metadata": {
    "colab_type": "text",
    "id": "F9iuX-n5UOQF"
   },
   "source": [
    "## Importing the Libraries"
   ]
  },
  {
   "cell_type": "code",
   "execution_count": 0,
   "metadata": {
    "colab": {},
    "colab_type": "code",
    "id": "47dpCzd7UOUb"
   },
   "outputs": [],
   "source": [
    "import os\n",
    "import transformers\n",
    "import numpy as np\n",
    "import torch.nn as nn\n",
    "import torch\n",
    "import pandas as pd\n",
    "from sklearn import metrics\n",
    "from sklearn import model_selection\n",
    "from transformers import AdamW\n",
    "from transformer import get_linear_scheduler_with_warmup\n"
   ]
  },
  {
   "cell_type": "markdown",
   "metadata": {},
   "source": [
    "## Downlaod the dataset from here: [link](https://www.kaggle.com/lakshmi25npathi/imdb-dataset-of-50k-movie-reviews)"
   ]
  },
  {
   "cell_type": "markdown",
   "metadata": {
    "colab_type": "text",
    "id": "wZ5KWvZMPwst"
   },
   "source": [
    "## Setting the configurations for the project"
   ]
  },
  {
   "cell_type": "code",
   "execution_count": 0,
   "metadata": {
    "colab": {
     "base_uri": "https://localhost:8080/",
     "height": 66,
     "referenced_widgets": [
      "afe0791ad65c4ad7b4945f6738ab76a7",
      "63f7730fca2c44b6b24109379d693df2",
      "69cb9d0eabbf4c19926a834245c2ddd9",
      "cc2aaafde7ca4923945057930964276a",
      "f42dc8a928954162880f7305e4c703b1",
      "6c0b342cfec34357bc11694fe0a710ed",
      "2a728e15c2ea447e9bce25e3c96f7dc4",
      "be39f227e96140cab00d1dd2ee59a688"
     ]
    },
    "colab_type": "code",
    "id": "dGMhsaVfTaiY",
    "outputId": "117e4095-875a-4015-dba5-d864f807e75b"
   },
   "outputs": [
    {
     "data": {
      "application/vnd.jupyter.widget-view+json": {
       "model_id": "afe0791ad65c4ad7b4945f6738ab76a7",
       "version_major": 2,
       "version_minor": 0
      },
      "text/plain": [
       "HBox(children=(FloatProgress(value=0.0, description='Downloading', max=231508.0, style=ProgressStyle(descripti…"
      ]
     },
     "metadata": {
      "tags": []
     },
     "output_type": "display_data"
    },
    {
     "name": "stdout",
     "output_type": "stream",
     "text": [
      "\n"
     ]
    }
   ],
   "source": [
    "MAX_LEN = 512\n",
    "TRAIN_BATCH_SIZE = 8\n",
    "VALID_BATCH_SIZE = 4\n",
    "EPOCHS = 10\n",
    "ACCUMULATION = 2 # This will be used to step the optimizer in the training \n",
    "BERT_PATH = './'\n",
    "MODEL_PATH = 'model.bin'\n",
    "TRAINING_FILE = 'imdb.csv'\n",
    "TOKENIZER = transformers.BertTokenizer.from_pretrained('bert-base-uncased', do_lower_case=True)"
   ]
  },
  {
   "cell_type": "markdown",
   "metadata": {
    "colab_type": "text",
    "id": "M5DFEE8XTasO"
   },
   "source": [
    "## Making the model"
   ]
  },
  {
   "cell_type": "code",
   "execution_count": 0,
   "metadata": {
    "colab": {},
    "colab_type": "code",
    "id": "Wx7HLroqTavw"
   },
   "outputs": [],
   "source": [
    "class BertBaseUncased(nn.Module):\n",
    "  def __init__(self):\n",
    "    super(BertBaseUncased, self).__init__()\n",
    "    self.bert = transformers.BertModel.from_pretrained('bert-base-uncased')\n",
    "    self.bert_drop = nn.Dropout(0.3)\n",
    "    self.out = nn.Linear(768, 1)\n",
    "\n",
    "  def forword(self, ids, mask, token_type_ids):\n",
    "    ## Out1: (lst hidden state)sequence of hidden states for each token in the batch. \n",
    "    ## Example:- input--> (512, 1), output--> (512, 768)\n",
    "    ## Out2: output for the first token. Output from bert pooler.\n",
    "    out1, out2 = self.bert(ids, \n",
    "                           attention_mask=mask, \n",
    "                           token_type_ids = token_type_ids\n",
    "                          )\n",
    "    bo = self.bert_drop(out2)\n",
    "    output = self.out(bo)\n",
    "\n",
    "    return out"
   ]
  },
  {
   "cell_type": "markdown",
   "metadata": {
    "colab_type": "text",
    "id": "XEy8DVdNZNB5"
   },
   "source": [
    "## Setting up the dataset"
   ]
  },
  {
   "cell_type": "code",
   "execution_count": 0,
   "metadata": {
    "colab": {},
    "colab_type": "code",
    "id": "GflZtHq5ZP-L"
   },
   "outputs": [],
   "source": [
    "class BERT_Dataset:\n",
    "  def __init__(self, review, target):\n",
    "    self.review = review\n",
    "    self.target = target\n",
    "    self.tokenizer = TOKENIZER\n",
    "    self.max_len = MAX_LEN\n",
    "\n",
    "  def __len__(self):\n",
    "    return len(self.review)\n",
    "\n",
    "  def __getitem__(self, item):\n",
    "    review = str(self.review)\n",
    "    review = \" \".join(review.split())\n",
    "\n",
    "    inputs = self.tokenizer.encode_plus(\n",
    "        review,\n",
    "        None, \n",
    "        add_special_tokens=True,\n",
    "        max_length = self.max_len\n",
    "    )\n",
    "\n",
    "    ids = inputs['input_ids']\n",
    "    mask = inputs['attention_mask']\n",
    "    token_type_ids = inputs['token_type_ids']\n",
    "\n",
    "    padding_length = self.max_len - len(ids)\n",
    "    ids = ids + ([0] * padding_length)\n",
    "    mask = mask + ([0]*padding_length)\n",
    "    token_type_ids = token_type_ids + ([0]*padding_length)\n",
    "\n",
    "    return {\n",
    "        'ids': torch.tensor(ids, dtype=torch.long),\n",
    "        'mask': torch.tensor(mask, dtype=torch.long),\n",
    "        'token_type_ids': torch.tensor(token_type_ids, dtype=torch.long),\n",
    "        'target': torch.tensor(self.target[item], dtype=torch.float)\n",
    "        }\n"
   ]
  },
  {
   "cell_type": "markdown",
   "metadata": {
    "colab_type": "text",
    "id": "E--XxvyBc3ED"
   },
   "source": [
    "## Setting the loss fucntions"
   ]
  },
  {
   "cell_type": "code",
   "execution_count": 0,
   "metadata": {
    "colab": {},
    "colab_type": "code",
    "id": "4mUzkMO6c5iq"
   },
   "outputs": [],
   "source": [
    "def loss_fn(outputs, targets):\n",
    "  return nn.BCEWithLogitsLoss()(outputs, targets.view(-1,1))"
   ]
  },
  {
   "cell_type": "markdown",
   "metadata": {
    "colab_type": "text",
    "id": "-7-buQymTa3V"
   },
   "source": [
    "## Setting up training and evaluation pipeline"
   ]
  },
  {
   "cell_type": "code",
   "execution_count": 0,
   "metadata": {
    "colab": {},
    "colab_type": "code",
    "id": "MwB23ZYcTa6Q"
   },
   "outputs": [],
   "source": [
    "def train_fn(data_loader, model, optimizer, device, scheduler):\n",
    "  model.train()\n",
    "  \n",
    "  for bi, d in tqdm(enumerate(data_loader), total = len(data_loader)):\n",
    "    ids = d['ids']\n",
    "    token_typ_ids = d['token_type_ids']\n",
    "    mask = d['mask']\n",
    "    targets = d['targets']\n",
    "\n",
    "    ids = ids.to_device(device, dtype=torch.long)\n",
    "    token_type_ids = token_type_ids.to_device(device, dtype=torch.long)\n",
    "    mask = mask.to_device(device, dtype=torch.long)\n",
    "    targets = targets.to_device(device, dtype=torch.float)\n",
    "\n",
    "    optimizer.zero_grad()\n",
    "\n",
    "    outputs = model(\n",
    "        ids = ids,\n",
    "        mask = mask,\n",
    "        token_type_ids = token_type_ids\n",
    "    )\n",
    "\n",
    "    loss = loss_fn(outputs, targets)\n",
    "    loss.backward()\n",
    "\n",
    "\n",
    "    if (bi+1) % accumulation_steps == 0:\n",
    "      optimizer.step()\n",
    "      scheduler.step()\n",
    "\n",
    "\n",
    "\n",
    "def eval_fn(data_loader, model, device):\n",
    "\n",
    "  model.eval()\n",
    "  fin_targets= []\n",
    "  fin_outputs = []\n",
    "  with torch.no_grad():\n",
    "    for bi, d in tqdm(enumerate(data_loader), total = len(data_loader)):\n",
    "      ids = d['ids']\n",
    "      token_typ_ids = d['token_type_ids']\n",
    "      mask = d['mask']\n",
    "      targets = d['targets']\n",
    "\n",
    "      ids = ids.to_device(device, dtype=torch.long)\n",
    "      token_type_ids = token_type_ids.to_device(device, dtype=torch.long)\n",
    "      mask = mask.to_device(device, dtype=torch.long)\n",
    "      targets = targets.to_device(device, dtype=torch.float)\n",
    "\n",
    "      optimizer.zero_grad()\n",
    "\n",
    "      outputs = model(\n",
    "          ids = ids,\n",
    "          mask = mask,\n",
    "          token_type_ids = token_type_ids\n",
    "      )\n",
    "\n",
    "      fin_targets.extend(targets.cpu().detach().numpy().tolist())\n",
    "      fin_outputs.extend(torch.sigmoid(outputs).cpu().detach().numpy().tolist())\n",
    "    \n",
    "  return fin_outputs, fin_targets\n"
   ]
  },
  {
   "cell_type": "code",
   "execution_count": 0,
   "metadata": {
    "colab": {},
    "colab_type": "code",
    "id": "Mmym2udETbKi"
   },
   "outputs": [],
   "source": [
    "def run():\n",
    "  dfx = pd.read_csv(TRAINING_FILE).fillna(\"none\")\n",
    "\n",
    "  dfx.sentiment = dfx.sentiment.apply(\n",
    "      lambda x: 1 if x == \"positive\" else 0\n",
    "  )\n",
    "\n",
    "  df_train, df_valid = model_selection.train_test_split(\n",
    "      dfx, test_size=10, random_state=42, \n",
    "      stratify=dfx.sentiment.values\n",
    "    )\n",
    "\n",
    "  df_train = df_train.reset_index(drop=True)\n",
    "  df_valid = df_valid.reset_index(drop=True)\n",
    "\n",
    "  train_dataset = BertDataset(\n",
    "      review = df_train.review.values,\n",
    "      target = df_train.sentiment.values\n",
    "  )\n",
    "\n",
    "  train_data_loader = torch.utils.DataLoader(\n",
    "      train_dataset,\n",
    "      batch_size=TRAIN_BATCH_SIZE,\n",
    "      num_workers=4\n",
    "  )\n",
    "\n",
    "  valid_dataset = BertDataset(\n",
    "      review = df_valid.review.values,\n",
    "      target = df_valid.sentiment.values\n",
    "  )\n",
    "\n",
    "  valid_data_loader = torch.utils.DataLoader(\n",
    "      valid_dataset,\n",
    "      batch_size=VALID_BATCH_SIZE,\n",
    "      num_workers=4\n",
    "  )\n",
    "\n",
    "  device = torch.device('cuda')\n",
    "  model = BertBaseUncased()\n",
    "  model.to(device)\n",
    "\n",
    "  param_optimizer = list(model.named_parameters())\n",
    "  no_decay = ['bias', 'LayerNorm.bias', \"LayerNorm.weight\"]\n",
    "\n",
    "  optmizer_parameters = [\n",
    "            {\"params\":[p\n",
    "                       for p in param_optimizer \n",
    "                       if not any(nd in n for nd in no_decay)],\n",
    "              'weight_decay':0.001 \n",
    "            },\n",
    "            {\"params\":[p\n",
    "                       for p in param_optimizer \n",
    "                       if any(nd in n for nd in no_decay)],\n",
    "              'weight_decay':0.01 \n",
    "            }\n",
    "  ]\n",
    "\n",
    "  num_training_steps = int(len(df_train) / TRAIN_BATCH_SIZE*EPOCHS)\n",
    "\n",
    "  optimizer = AdamW(optimizer_parameters, lr=3e-5)\n",
    "  scheduler = get_linear_scheduler_with_warmup(\n",
    "      optmizer,\n",
    "      num_warmup_steps=0,\n",
    "      num_training_steps=num_training_steps\n",
    "  )\n",
    "\n",
    "  best_accuracy = 0\n",
    "\n",
    "  for epoch in range(EPOCHS):\n",
    "    train_fn(train_data_loader, model, optimizer, device, scheduler)\n",
    "    outputs, targets = eval_fn(valid_data_loader, model, device)\n",
    "    outputs = np.array(ouputs) >= 0.5\n",
    "    accuracy = metrics.accuracy_score(targets, outputs)\n",
    "\n",
    "    print(f\"Accuracy Score={accuracy_score}\")\n",
    "\n",
    "    if accuracy > best_accuracy:\n",
    "      torch.save(model.state_dict(), MODEL_PATH)\n",
    "      best_accuracy = accuracy"
   ]
  },
  {
   "cell_type": "code",
   "execution_count": 0,
   "metadata": {
    "colab": {},
    "colab_type": "code",
    "id": "qmLF2QKJTbQa"
   },
   "outputs": [],
   "source": []
  },
  {
   "cell_type": "code",
   "execution_count": 0,
   "metadata": {
    "colab": {},
    "colab_type": "code",
    "id": "bji9n3SlTbWt"
   },
   "outputs": [],
   "source": []
  },
  {
   "cell_type": "code",
   "execution_count": 0,
   "metadata": {
    "colab": {},
    "colab_type": "code",
    "id": "c9s6OKXSTbdN"
   },
   "outputs": [],
   "source": []
  },
  {
   "cell_type": "code",
   "execution_count": 0,
   "metadata": {
    "colab": {},
    "colab_type": "code",
    "id": "aIC3xbLmTbjO"
   },
   "outputs": [],
   "source": []
  },
  {
   "cell_type": "code",
   "execution_count": 0,
   "metadata": {
    "colab": {},
    "colab_type": "code",
    "id": "0OHlY3mPTbpe"
   },
   "outputs": [],
   "source": []
  },
  {
   "cell_type": "code",
   "execution_count": 0,
   "metadata": {
    "colab": {},
    "colab_type": "code",
    "id": "thIwpLPATbvf"
   },
   "outputs": [],
   "source": []
  },
  {
   "cell_type": "code",
   "execution_count": 0,
   "metadata": {
    "colab": {},
    "colab_type": "code",
    "id": "dnw-Kjn9Tb7h"
   },
   "outputs": [],
   "source": []
  },
  {
   "cell_type": "code",
   "execution_count": 0,
   "metadata": {
    "colab": {},
    "colab_type": "code",
    "id": "jCJ8MoJJTcGS"
   },
   "outputs": [],
   "source": []
  },
  {
   "cell_type": "code",
   "execution_count": 0,
   "metadata": {
    "colab": {},
    "colab_type": "code",
    "id": "1GndlkrLTcJ3"
   },
   "outputs": [],
   "source": []
  },
  {
   "cell_type": "code",
   "execution_count": 0,
   "metadata": {
    "colab": {},
    "colab_type": "code",
    "id": "e4mIxSeOTcC7"
   },
   "outputs": [],
   "source": []
  },
  {
   "cell_type": "code",
   "execution_count": 0,
   "metadata": {
    "colab": {},
    "colab_type": "code",
    "id": "Q0uIJmhGTcAy"
   },
   "outputs": [],
   "source": []
  },
  {
   "cell_type": "code",
   "execution_count": 0,
   "metadata": {
    "colab": {},
    "colab_type": "code",
    "id": "0PNI70DZTb5g"
   },
   "outputs": [],
   "source": []
  },
  {
   "cell_type": "code",
   "execution_count": 0,
   "metadata": {
    "colab": {},
    "colab_type": "code",
    "id": "A7ahKPFLTb2s"
   },
   "outputs": [],
   "source": []
  },
  {
   "cell_type": "code",
   "execution_count": 0,
   "metadata": {
    "colab": {},
    "colab_type": "code",
    "id": "M4U-mQS6Tb1a"
   },
   "outputs": [],
   "source": []
  },
  {
   "cell_type": "code",
   "execution_count": 0,
   "metadata": {
    "colab": {},
    "colab_type": "code",
    "id": "bvHnNeIVTbtt"
   },
   "outputs": [],
   "source": []
  },
  {
   "cell_type": "code",
   "execution_count": 0,
   "metadata": {
    "colab": {},
    "colab_type": "code",
    "id": "Dz5KQ-ocTbns"
   },
   "outputs": [],
   "source": []
  },
  {
   "cell_type": "code",
   "execution_count": 0,
   "metadata": {
    "colab": {},
    "colab_type": "code",
    "id": "nRmsae2qTbhP"
   },
   "outputs": [],
   "source": []
  },
  {
   "cell_type": "code",
   "execution_count": 0,
   "metadata": {
    "colab": {},
    "colab_type": "code",
    "id": "PYTKaGuhTbbx"
   },
   "outputs": [],
   "source": []
  },
  {
   "cell_type": "code",
   "execution_count": 0,
   "metadata": {
    "colab": {},
    "colab_type": "code",
    "id": "XeanEJanTbVE"
   },
   "outputs": [],
   "source": []
  },
  {
   "cell_type": "code",
   "execution_count": 0,
   "metadata": {
    "colab": {},
    "colab_type": "code",
    "id": "xD083kNCTbOj"
   },
   "outputs": [],
   "source": []
  },
  {
   "cell_type": "code",
   "execution_count": 0,
   "metadata": {
    "colab": {},
    "colab_type": "code",
    "id": "9zfVl1I5TbIa"
   },
   "outputs": [],
   "source": []
  },
  {
   "cell_type": "code",
   "execution_count": 0,
   "metadata": {
    "colab": {},
    "colab_type": "code",
    "id": "IVr12XBZTbFc"
   },
   "outputs": [],
   "source": []
  },
  {
   "cell_type": "code",
   "execution_count": 0,
   "metadata": {
    "colab": {},
    "colab_type": "code",
    "id": "ffPYYn2_TbCu"
   },
   "outputs": [],
   "source": []
  },
  {
   "cell_type": "code",
   "execution_count": 0,
   "metadata": {
    "colab": {},
    "colab_type": "code",
    "id": "uNLR7NO0TbAK"
   },
   "outputs": [],
   "source": []
  },
  {
   "cell_type": "code",
   "execution_count": 0,
   "metadata": {
    "colab": {},
    "colab_type": "code",
    "id": "2O8-E5suTa9-"
   },
   "outputs": [],
   "source": []
  },
  {
   "cell_type": "code",
   "execution_count": 0,
   "metadata": {
    "colab": {},
    "colab_type": "code",
    "id": "lEW4eQcMTaom"
   },
   "outputs": [],
   "source": []
  },
  {
   "cell_type": "code",
   "execution_count": 0,
   "metadata": {
    "colab": {},
    "colab_type": "code",
    "id": "oe9Yy3KbTam-"
   },
   "outputs": [],
   "source": []
  },
  {
   "cell_type": "code",
   "execution_count": 0,
   "metadata": {
    "colab": {},
    "colab_type": "code",
    "id": "p9OkaWKaTagT"
   },
   "outputs": [],
   "source": []
  }
 ],
 "metadata": {
  "colab": {
   "collapsed_sections": [],
   "name": "Training a sentement classifier using Bert.ipynb",
   "provenance": []
  },
  "kernelspec": {
   "display_name": "Python 3",
   "language": "python",
   "name": "python3"
  },
  "language_info": {
   "codemirror_mode": {
    "name": "ipython",
    "version": 3
   },
   "file_extension": ".py",
   "mimetype": "text/x-python",
   "name": "python",
   "nbconvert_exporter": "python",
   "pygments_lexer": "ipython3",
   "version": "3.7.6"
  },
  "widgets": {
   "application/vnd.jupyter.widget-state+json": {
    "2a728e15c2ea447e9bce25e3c96f7dc4": {
     "model_module": "@jupyter-widgets/controls",
     "model_name": "DescriptionStyleModel",
     "state": {
      "_model_module": "@jupyter-widgets/controls",
      "_model_module_version": "1.5.0",
      "_model_name": "DescriptionStyleModel",
      "_view_count": null,
      "_view_module": "@jupyter-widgets/base",
      "_view_module_version": "1.2.0",
      "_view_name": "StyleView",
      "description_width": ""
     }
    },
    "63f7730fca2c44b6b24109379d693df2": {
     "model_module": "@jupyter-widgets/base",
     "model_name": "LayoutModel",
     "state": {
      "_model_module": "@jupyter-widgets/base",
      "_model_module_version": "1.2.0",
      "_model_name": "LayoutModel",
      "_view_count": null,
      "_view_module": "@jupyter-widgets/base",
      "_view_module_version": "1.2.0",
      "_view_name": "LayoutView",
      "align_content": null,
      "align_items": null,
      "align_self": null,
      "border": null,
      "bottom": null,
      "display": null,
      "flex": null,
      "flex_flow": null,
      "grid_area": null,
      "grid_auto_columns": null,
      "grid_auto_flow": null,
      "grid_auto_rows": null,
      "grid_column": null,
      "grid_gap": null,
      "grid_row": null,
      "grid_template_areas": null,
      "grid_template_columns": null,
      "grid_template_rows": null,
      "height": null,
      "justify_content": null,
      "justify_items": null,
      "left": null,
      "margin": null,
      "max_height": null,
      "max_width": null,
      "min_height": null,
      "min_width": null,
      "object_fit": null,
      "object_position": null,
      "order": null,
      "overflow": null,
      "overflow_x": null,
      "overflow_y": null,
      "padding": null,
      "right": null,
      "top": null,
      "visibility": null,
      "width": null
     }
    },
    "69cb9d0eabbf4c19926a834245c2ddd9": {
     "model_module": "@jupyter-widgets/controls",
     "model_name": "FloatProgressModel",
     "state": {
      "_dom_classes": [],
      "_model_module": "@jupyter-widgets/controls",
      "_model_module_version": "1.5.0",
      "_model_name": "FloatProgressModel",
      "_view_count": null,
      "_view_module": "@jupyter-widgets/controls",
      "_view_module_version": "1.5.0",
      "_view_name": "ProgressView",
      "bar_style": "success",
      "description": "Downloading: 100%",
      "description_tooltip": null,
      "layout": "IPY_MODEL_6c0b342cfec34357bc11694fe0a710ed",
      "max": 231508,
      "min": 0,
      "orientation": "horizontal",
      "style": "IPY_MODEL_f42dc8a928954162880f7305e4c703b1",
      "value": 231508
     }
    },
    "6c0b342cfec34357bc11694fe0a710ed": {
     "model_module": "@jupyter-widgets/base",
     "model_name": "LayoutModel",
     "state": {
      "_model_module": "@jupyter-widgets/base",
      "_model_module_version": "1.2.0",
      "_model_name": "LayoutModel",
      "_view_count": null,
      "_view_module": "@jupyter-widgets/base",
      "_view_module_version": "1.2.0",
      "_view_name": "LayoutView",
      "align_content": null,
      "align_items": null,
      "align_self": null,
      "border": null,
      "bottom": null,
      "display": null,
      "flex": null,
      "flex_flow": null,
      "grid_area": null,
      "grid_auto_columns": null,
      "grid_auto_flow": null,
      "grid_auto_rows": null,
      "grid_column": null,
      "grid_gap": null,
      "grid_row": null,
      "grid_template_areas": null,
      "grid_template_columns": null,
      "grid_template_rows": null,
      "height": null,
      "justify_content": null,
      "justify_items": null,
      "left": null,
      "margin": null,
      "max_height": null,
      "max_width": null,
      "min_height": null,
      "min_width": null,
      "object_fit": null,
      "object_position": null,
      "order": null,
      "overflow": null,
      "overflow_x": null,
      "overflow_y": null,
      "padding": null,
      "right": null,
      "top": null,
      "visibility": null,
      "width": null
     }
    },
    "afe0791ad65c4ad7b4945f6738ab76a7": {
     "model_module": "@jupyter-widgets/controls",
     "model_name": "HBoxModel",
     "state": {
      "_dom_classes": [],
      "_model_module": "@jupyter-widgets/controls",
      "_model_module_version": "1.5.0",
      "_model_name": "HBoxModel",
      "_view_count": null,
      "_view_module": "@jupyter-widgets/controls",
      "_view_module_version": "1.5.0",
      "_view_name": "HBoxView",
      "box_style": "",
      "children": [
       "IPY_MODEL_69cb9d0eabbf4c19926a834245c2ddd9",
       "IPY_MODEL_cc2aaafde7ca4923945057930964276a"
      ],
      "layout": "IPY_MODEL_63f7730fca2c44b6b24109379d693df2"
     }
    },
    "be39f227e96140cab00d1dd2ee59a688": {
     "model_module": "@jupyter-widgets/base",
     "model_name": "LayoutModel",
     "state": {
      "_model_module": "@jupyter-widgets/base",
      "_model_module_version": "1.2.0",
      "_model_name": "LayoutModel",
      "_view_count": null,
      "_view_module": "@jupyter-widgets/base",
      "_view_module_version": "1.2.0",
      "_view_name": "LayoutView",
      "align_content": null,
      "align_items": null,
      "align_self": null,
      "border": null,
      "bottom": null,
      "display": null,
      "flex": null,
      "flex_flow": null,
      "grid_area": null,
      "grid_auto_columns": null,
      "grid_auto_flow": null,
      "grid_auto_rows": null,
      "grid_column": null,
      "grid_gap": null,
      "grid_row": null,
      "grid_template_areas": null,
      "grid_template_columns": null,
      "grid_template_rows": null,
      "height": null,
      "justify_content": null,
      "justify_items": null,
      "left": null,
      "margin": null,
      "max_height": null,
      "max_width": null,
      "min_height": null,
      "min_width": null,
      "object_fit": null,
      "object_position": null,
      "order": null,
      "overflow": null,
      "overflow_x": null,
      "overflow_y": null,
      "padding": null,
      "right": null,
      "top": null,
      "visibility": null,
      "width": null
     }
    },
    "cc2aaafde7ca4923945057930964276a": {
     "model_module": "@jupyter-widgets/controls",
     "model_name": "HTMLModel",
     "state": {
      "_dom_classes": [],
      "_model_module": "@jupyter-widgets/controls",
      "_model_module_version": "1.5.0",
      "_model_name": "HTMLModel",
      "_view_count": null,
      "_view_module": "@jupyter-widgets/controls",
      "_view_module_version": "1.5.0",
      "_view_name": "HTMLView",
      "description": "",
      "description_tooltip": null,
      "layout": "IPY_MODEL_be39f227e96140cab00d1dd2ee59a688",
      "placeholder": "​",
      "style": "IPY_MODEL_2a728e15c2ea447e9bce25e3c96f7dc4",
      "value": " 232k/232k [00:00&lt;00:00, 753kB/s]"
     }
    },
    "f42dc8a928954162880f7305e4c703b1": {
     "model_module": "@jupyter-widgets/controls",
     "model_name": "ProgressStyleModel",
     "state": {
      "_model_module": "@jupyter-widgets/controls",
      "_model_module_version": "1.5.0",
      "_model_name": "ProgressStyleModel",
      "_view_count": null,
      "_view_module": "@jupyter-widgets/base",
      "_view_module_version": "1.2.0",
      "_view_name": "StyleView",
      "bar_color": null,
      "description_width": "initial"
     }
    }
   }
  }
 },
 "nbformat": 4,
 "nbformat_minor": 1
}
