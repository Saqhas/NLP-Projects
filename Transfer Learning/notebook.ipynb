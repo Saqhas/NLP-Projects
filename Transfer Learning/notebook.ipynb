{
 "cells": [
  {
   "cell_type": "code",
   "execution_count": 1,
   "metadata": {},
   "outputs": [],
   "source": [
    "import json\n",
    "import tensorflow as tf\n",
    "import csv\n",
    "import random\n",
    "import numpy as np\n",
    "\n",
    "from tensorflow.keras.preprocessing.text import Tokenizer\n",
    "from tensorflow.keras.preprocessing.sequence import pad_sequences\n",
    "from tensorflow.keras.utils import to_categorical\n",
    "from tensorflow.keras import regularizers\n",
    "\n",
    "\n",
    "embedding_dim = 100\n",
    "max_length = 16\n",
    "trunc_type='post'\n",
    "padding_type='post'\n",
    "oov_tok = \"<OOV>\"\n",
    "training_size=160000\n",
    "test_portion=.1\n",
    "\n",
    "corpus = []\n"
   ]
  },
  {
   "cell_type": "code",
   "execution_count": 2,
   "metadata": {},
   "outputs": [
    {
     "name": "stdout",
     "output_type": "stream",
     "text": [
      "--2019-12-14 20:38:38--  https://storage.googleapis.com/laurencemoroney-blog.appspot.com/training_cleaned.csv\n",
      "Resolving storage.googleapis.com (storage.googleapis.com)... 172.217.160.144, 2404:6800:4007:80a::2010\n",
      "Connecting to storage.googleapis.com (storage.googleapis.com)|172.217.160.144|:443... connected.\n",
      "HTTP request sent, awaiting response... 200 OK\n",
      "Length: 238942690 (228M) [application/octet-stream]\n",
      "Saving to: ‘/tmp/training_cleaned.csv’\n",
      "\n",
      "/tmp/training_clean 100%[===================>] 227.87M   416KB/s    in 15m 2s  \n",
      "\n",
      "2019-12-14 20:53:46 (259 KB/s) - ‘/tmp/training_cleaned.csv’ saved [238942690/238942690]\n",
      "\n"
     ]
    }
   ],
   "source": [
    "\n",
    "# Note that I cleaned the Stanford dataset to remove LATIN1 encoding to make it easier for Python CSV reader\n",
    "# You can do that yourself with:\n",
    "# iconv -f LATIN1 -t UTF8 training.1600000.processed.noemoticon.csv -o training_cleaned.csv\n",
    "# I then hosted it on my site to make it easier to use in this notebook\n",
    "\n",
    "!wget --no-check-certificate \\\n",
    "    https://storage.googleapis.com/laurencemoroney-blog.appspot.com/training_cleaned.csv \\\n",
    "    -O /tmp/training_cleaned.csv\n",
    "\n",
    "num_sentences = 0\n",
    "\n",
    "with open(\"/tmp/training_cleaned.csv\") as csvfile:\n",
    "    reader = csv.reader(csvfile, delimiter=',')\n",
    "    for row in reader:\n",
    "        list_item=[]\n",
    "        list_item.append(row[5])\n",
    "        this_label=row[0]\n",
    "        if this_label=='0':\n",
    "            list_item.append(0)\n",
    "        else:\n",
    "            list_item.append(1)\n",
    "        num_sentences = num_sentences + 1\n",
    "        corpus.append(list_item)\n",
    "\n",
    "\n"
   ]
  },
  {
   "cell_type": "code",
   "execution_count": 3,
   "metadata": {},
   "outputs": [
    {
     "name": "stdout",
     "output_type": "stream",
     "text": [
      "1600000\n",
      "1600000\n",
      "[\"is upset that he can't update his Facebook by texting it... and might cry as a result  School today also. Blah!\", 0]\n"
     ]
    }
   ],
   "source": [
    "print(num_sentences)\n",
    "print(len(corpus))\n",
    "print(corpus[1])\n",
    "\n",
    "# Expected Output:\n",
    "# 1600000\n",
    "# 1600000\n",
    "# [\"is upset that he can't update his Facebook by texting it... and might cry as a result  School today also. Blah!\", 0]"
   ]
  },
  {
   "cell_type": "code",
   "execution_count": 4,
   "metadata": {},
   "outputs": [],
   "source": [
    "sentences=[]\n",
    "labels=[]\n",
    "random.shuffle(corpus)\n",
    "for x in range(training_size):\n",
    "    sentences.append(corpus[x][0])\n",
    "    labels.append(corpus[x][1])\n",
    "\n",
    "\n",
    "tokenizer = Tokenizer()\n",
    "tokenizer.fit_on_texts(sentences)\n",
    "\n",
    "word_index = tokenizer.word_index\n",
    "vocab_size=len(word_index)\n",
    "\n",
    "sequences = tokenizer.texts_to_sequences(sentences)\n",
    "padded = pad_sequences(sequences, maxlen=max_length, padding=padding_type, truncating=trunc_type)\n",
    "\n",
    "split = int(test_portion * training_size)\n",
    "\n",
    "test_sequences = padded[0:split]\n",
    "training_sequences = padded[split:training_size]\n",
    "test_labels = labels[0:split]\n",
    "training_labels = labels[split:training_size]"
   ]
  },
  {
   "cell_type": "code",
   "execution_count": 5,
   "metadata": {},
   "outputs": [
    {
     "name": "stdout",
     "output_type": "stream",
     "text": [
      "137980\n",
      "1\n"
     ]
    }
   ],
   "source": [
    "print(vocab_size)\n",
    "print(word_index['i'])\n",
    "# Expected Output\n",
    "# 138858\n",
    "# 1"
   ]
  },
  {
   "cell_type": "markdown",
   "metadata": {},
   "source": [
    "### For transfer learning we will just import a pretrained embedding matrix and use\n",
    "The embeddings that you will transfer learn from are called the GloVe, also known as Global Vectors for Word Representation, available at: https://nlp.stanford.edu/projects/glove/"
   ]
  },
  {
   "cell_type": "code",
   "execution_count": 6,
   "metadata": {},
   "outputs": [
    {
     "name": "stdout",
     "output_type": "stream",
     "text": [
      "--2019-12-14 20:54:10--  https://storage.googleapis.com/laurencemoroney-blog.appspot.com/glove.6B.100d.txt\n",
      "Resolving storage.googleapis.com (storage.googleapis.com)... 172.217.26.176, 2404:6800:4007:802::2010\n",
      "Connecting to storage.googleapis.com (storage.googleapis.com)|172.217.26.176|:443... connected.\n",
      "HTTP request sent, awaiting response... 200 OK\n",
      "Length: 347116733 (331M) [text/plain]\n",
      "Saving to: ‘/tmp/glove.6B.100d.txt’\n",
      "\n",
      "/tmp/glove.6B.100d. 100%[===================>] 331.04M   283KB/s    in 20m 12s \n",
      "\n",
      "2019-12-14 21:14:23 (280 KB/s) - ‘/tmp/glove.6B.100d.txt’ saved [347116733/347116733]\n",
      "\n"
     ]
    }
   ],
   "source": [
    "# Note this is the 100 dimension version of GloVe from Stanford\n",
    "# I unzipped and hosted it on my site to make this notebook easier\n",
    "!wget --no-check-certificate \\\n",
    "    https://storage.googleapis.com/laurencemoroney-blog.appspot.com/glove.6B.100d.txt \\\n",
    "    -O /tmp/glove.6B.100d.txt\n",
    "embeddings_index = {};\n",
    "with open('/tmp/glove.6B.100d.txt') as f:\n",
    "    for line in f:\n",
    "        values = line.split();\n",
    "        word = values[0];\n",
    "        coefs = np.asarray(values[1:], dtype='float32');\n",
    "        embeddings_index[word] = coefs;\n",
    "\n",
    "embeddings_matrix = np.zeros((vocab_size+1, embedding_dim));\n",
    "for word, i in word_index.items():\n",
    "    embedding_vector = embeddings_index.get(word);\n",
    "    if embedding_vector is not None:\n",
    "        embeddings_matrix[i] = embedding_vector;"
   ]
  },
  {
   "cell_type": "code",
   "execution_count": 7,
   "metadata": {},
   "outputs": [
    {
     "name": "stdout",
     "output_type": "stream",
     "text": [
      "139030\n"
     ]
    }
   ],
   "source": [
    "print(len(embeddings_matrix))\n",
    "# Expected Output\n",
    "# 138859"
   ]
  },
  {
   "cell_type": "markdown",
   "metadata": {},
   "source": [
    "### For the model lets start with a network with Convolution layer, Maxpooling layer and Single directional One LSTM"
   ]
  },
  {
   "cell_type": "code",
   "execution_count": 7,
   "metadata": {},
   "outputs": [
    {
     "name": "stdout",
     "output_type": "stream",
     "text": [
      "WARNING:tensorflow:From /home/saquib/anaconda3/envs/tensorflow/lib/python3.5/site-packages/tensorflow/python/keras/initializers.py:119: calling RandomUniform.__init__ (from tensorflow.python.ops.init_ops) with dtype is deprecated and will be removed in a future version.\n",
      "Instructions for updating:\n",
      "Call initializer instance with the dtype argument instead of passing it to the constructor\n",
      "WARNING:tensorflow:From /home/saquib/anaconda3/envs/tensorflow/lib/python3.5/site-packages/tensorflow/python/ops/init_ops.py:1251: calling VarianceScaling.__init__ (from tensorflow.python.ops.init_ops) with dtype is deprecated and will be removed in a future version.\n",
      "Instructions for updating:\n",
      "Call initializer instance with the dtype argument instead of passing it to the constructor\n",
      "WARNING:tensorflow:From /home/saquib/anaconda3/envs/tensorflow/lib/python3.5/site-packages/tensorflow/python/ops/nn_impl.py:180: add_dispatch_support.<locals>.wrapper (from tensorflow.python.ops.array_ops) is deprecated and will be removed in a future version.\n",
      "Instructions for updating:\n",
      "Use tf.where in 2.0, which has the same broadcast rule as np.where\n",
      "Model: \"sequential\"\n",
      "_________________________________________________________________\n",
      "Layer (type)                 Output Shape              Param #   \n",
      "=================================================================\n",
      "embedding (Embedding)        (None, 16, 100)           13798100  \n",
      "_________________________________________________________________\n",
      "dropout (Dropout)            (None, 16, 100)           0         \n",
      "_________________________________________________________________\n",
      "conv1d (Conv1D)              (None, 12, 64)            32064     \n",
      "_________________________________________________________________\n",
      "max_pooling1d (MaxPooling1D) (None, 3, 64)             0         \n",
      "_________________________________________________________________\n",
      "lstm (LSTM)                  (None, 64)                33024     \n",
      "_________________________________________________________________\n",
      "dense (Dense)                (None, 1)                 65        \n",
      "=================================================================\n",
      "Total params: 13,863,253\n",
      "Trainable params: 65,153\n",
      "Non-trainable params: 13,798,100\n",
      "_________________________________________________________________\n",
      "Train on 144000 samples, validate on 16000 samples\n",
      "Epoch 1/50\n",
      "144000/144000 - 65s - loss: 0.5676 - acc: 0.6999 - val_loss: 0.5344 - val_acc: 0.7258\n",
      "Epoch 2/50\n",
      "144000/144000 - 64s - loss: 0.5289 - acc: 0.7314 - val_loss: 0.5123 - val_acc: 0.7441\n",
      "Epoch 3/50\n",
      "144000/144000 - 63s - loss: 0.5117 - acc: 0.7427 - val_loss: 0.5061 - val_acc: 0.7481\n",
      "Epoch 4/50\n",
      "144000/144000 - 59s - loss: 0.5002 - acc: 0.7514 - val_loss: 0.4994 - val_acc: 0.7544\n",
      "Epoch 5/50\n",
      "144000/144000 - 69s - loss: 0.4912 - acc: 0.7578 - val_loss: 0.4983 - val_acc: 0.7563\n",
      "Epoch 6/50\n",
      "144000/144000 - 57s - loss: 0.4869 - acc: 0.7593 - val_loss: 0.5016 - val_acc: 0.7490\n",
      "Epoch 7/50\n",
      "144000/144000 - 54s - loss: 0.4800 - acc: 0.7640 - val_loss: 0.4958 - val_acc: 0.7567\n",
      "Epoch 8/50\n",
      "144000/144000 - 59s - loss: 0.4765 - acc: 0.7672 - val_loss: 0.4961 - val_acc: 0.7550\n",
      "Epoch 9/50\n",
      "144000/144000 - 71s - loss: 0.4710 - acc: 0.7690 - val_loss: 0.4987 - val_acc: 0.7543\n",
      "Epoch 10/50\n",
      "144000/144000 - 60s - loss: 0.4675 - acc: 0.7723 - val_loss: 0.5021 - val_acc: 0.7539\n",
      "Epoch 11/50\n",
      "144000/144000 - 58s - loss: 0.4647 - acc: 0.7750 - val_loss: 0.4993 - val_acc: 0.7546\n",
      "Epoch 12/50\n",
      "144000/144000 - 56s - loss: 0.4617 - acc: 0.7761 - val_loss: 0.5017 - val_acc: 0.7539\n",
      "Epoch 13/50\n",
      "144000/144000 - 65s - loss: 0.4582 - acc: 0.7781 - val_loss: 0.5034 - val_acc: 0.7537\n",
      "Epoch 14/50\n",
      "144000/144000 - 56s - loss: 0.4566 - acc: 0.7792 - val_loss: 0.5007 - val_acc: 0.7544\n",
      "Epoch 15/50\n",
      "144000/144000 - 62s - loss: 0.4548 - acc: 0.7797 - val_loss: 0.5006 - val_acc: 0.7532\n",
      "Epoch 16/50\n",
      "144000/144000 - 65s - loss: 0.4519 - acc: 0.7822 - val_loss: 0.5017 - val_acc: 0.7527\n",
      "Epoch 17/50\n",
      "144000/144000 - 55s - loss: 0.4509 - acc: 0.7829 - val_loss: 0.5079 - val_acc: 0.7524\n",
      "Epoch 18/50\n",
      "144000/144000 - 58s - loss: 0.4495 - acc: 0.7835 - val_loss: 0.5065 - val_acc: 0.7530\n",
      "Epoch 19/50\n",
      "144000/144000 - 55s - loss: 0.4491 - acc: 0.7838 - val_loss: 0.5050 - val_acc: 0.7533\n",
      "Epoch 20/50\n",
      "144000/144000 - 59s - loss: 0.4468 - acc: 0.7848 - val_loss: 0.5018 - val_acc: 0.7593\n",
      "Epoch 21/50\n",
      "144000/144000 - 60s - loss: 0.4461 - acc: 0.7852 - val_loss: 0.5027 - val_acc: 0.7546\n",
      "Epoch 22/50\n",
      "144000/144000 - 59s - loss: 0.4441 - acc: 0.7875 - val_loss: 0.5124 - val_acc: 0.7547\n",
      "Epoch 23/50\n",
      "144000/144000 - 57s - loss: 0.4439 - acc: 0.7868 - val_loss: 0.5038 - val_acc: 0.7511\n",
      "Epoch 24/50\n",
      "144000/144000 - 60s - loss: 0.4426 - acc: 0.7877 - val_loss: 0.5084 - val_acc: 0.7525\n",
      "Epoch 25/50\n",
      "144000/144000 - 59s - loss: 0.4431 - acc: 0.7868 - val_loss: 0.5110 - val_acc: 0.7485\n",
      "Epoch 26/50\n",
      "144000/144000 - 48s - loss: 0.4420 - acc: 0.7873 - val_loss: 0.5084 - val_acc: 0.7521\n",
      "Epoch 27/50\n",
      "144000/144000 - 43s - loss: 0.4406 - acc: 0.7879 - val_loss: 0.5095 - val_acc: 0.7541\n",
      "Epoch 28/50\n",
      "144000/144000 - 43s - loss: 0.4397 - acc: 0.7895 - val_loss: 0.5094 - val_acc: 0.7509\n",
      "Epoch 29/50\n",
      "144000/144000 - 43s - loss: 0.4390 - acc: 0.7886 - val_loss: 0.5100 - val_acc: 0.7500\n",
      "Epoch 30/50\n",
      "144000/144000 - 43s - loss: 0.4376 - acc: 0.7910 - val_loss: 0.5137 - val_acc: 0.7508\n",
      "Epoch 31/50\n",
      "144000/144000 - 43s - loss: 0.4398 - acc: 0.7882 - val_loss: 0.5075 - val_acc: 0.7487\n",
      "Epoch 32/50\n",
      "144000/144000 - 43s - loss: 0.4388 - acc: 0.7905 - val_loss: 0.5175 - val_acc: 0.7508\n",
      "Epoch 33/50\n",
      "144000/144000 - 43s - loss: 0.4381 - acc: 0.7897 - val_loss: 0.5096 - val_acc: 0.7529\n",
      "Epoch 34/50\n",
      "144000/144000 - 43s - loss: 0.4362 - acc: 0.7919 - val_loss: 0.5128 - val_acc: 0.7528\n",
      "Epoch 35/50\n",
      "144000/144000 - 43s - loss: 0.4365 - acc: 0.7911 - val_loss: 0.5107 - val_acc: 0.7498\n",
      "Epoch 36/50\n",
      "144000/144000 - 42s - loss: 0.4357 - acc: 0.7923 - val_loss: 0.5126 - val_acc: 0.7521\n",
      "Epoch 37/50\n",
      "144000/144000 - 43s - loss: 0.4358 - acc: 0.7914 - val_loss: 0.5152 - val_acc: 0.7489\n",
      "Epoch 38/50\n",
      "144000/144000 - 44s - loss: 0.4356 - acc: 0.7921 - val_loss: 0.5092 - val_acc: 0.7526\n",
      "Epoch 39/50\n",
      "144000/144000 - 42s - loss: 0.4332 - acc: 0.7928 - val_loss: 0.5101 - val_acc: 0.7552\n",
      "Epoch 40/50\n",
      "144000/144000 - 43s - loss: 0.4334 - acc: 0.7934 - val_loss: 0.5150 - val_acc: 0.7528\n",
      "Epoch 41/50\n",
      "144000/144000 - 43s - loss: 0.4337 - acc: 0.7936 - val_loss: 0.5121 - val_acc: 0.7531\n",
      "Epoch 42/50\n",
      "144000/144000 - 43s - loss: 0.4340 - acc: 0.7930 - val_loss: 0.5117 - val_acc: 0.7524\n",
      "Epoch 43/50\n",
      "144000/144000 - 43s - loss: 0.4334 - acc: 0.7932 - val_loss: 0.5115 - val_acc: 0.7527\n",
      "Epoch 44/50\n",
      "144000/144000 - 43s - loss: 0.4325 - acc: 0.7945 - val_loss: 0.5158 - val_acc: 0.7511\n",
      "Epoch 45/50\n",
      "144000/144000 - 42s - loss: 0.4340 - acc: 0.7927 - val_loss: 0.5176 - val_acc: 0.7520\n",
      "Epoch 46/50\n",
      "144000/144000 - 43s - loss: 0.4328 - acc: 0.7937 - val_loss: 0.5166 - val_acc: 0.7495\n",
      "Epoch 47/50\n",
      "144000/144000 - 43s - loss: 0.4325 - acc: 0.7925 - val_loss: 0.5125 - val_acc: 0.7534\n",
      "Epoch 48/50\n",
      "144000/144000 - 43s - loss: 0.4328 - acc: 0.7929 - val_loss: 0.5178 - val_acc: 0.7485\n",
      "Epoch 49/50\n",
      "144000/144000 - 43s - loss: 0.4327 - acc: 0.7942 - val_loss: 0.5150 - val_acc: 0.7512\n",
      "Epoch 50/50\n",
      "144000/144000 - 43s - loss: 0.4332 - acc: 0.7934 - val_loss: 0.5187 - val_acc: 0.7506\n",
      "Training Complete\n"
     ]
    }
   ],
   "source": [
    "model = tf.keras.Sequential([\n",
    "    tf.keras.layers.Embedding(vocab_size+1, embedding_dim, input_length=max_length, weights=[embeddings_matrix], trainable=False),\n",
    "    tf.keras.layers.Dropout(0.2),\n",
    "    tf.keras.layers.Conv1D(64, 5, activation='relu'),\n",
    "    tf.keras.layers.MaxPooling1D(pool_size=4),\n",
    "    tf.keras.layers.LSTM(64),\n",
    "    tf.keras.layers.Dense(1, activation='sigmoid')\n",
    "])\n",
    "model.compile(loss='binary_crossentropy',optimizer='adam',metrics=['accuracy'])\n",
    "model.summary()\n",
    "\n",
    "num_epochs = 50\n",
    "history = model.fit(training_sequences, training_labels, epochs=num_epochs, validation_data=(test_sequences, test_labels), verbose=2)\n",
    "\n",
    "print(\"Training Complete\")\n"
   ]
  },
  {
   "cell_type": "code",
   "execution_count": 9,
   "metadata": {},
   "outputs": [
    {
     "data": {
      "text/plain": [
       "<Figure size 432x288 with 0 Axes>"
      ]
     },
     "execution_count": 9,
     "metadata": {},
     "output_type": "execute_result"
    },
    {
     "data": {
      "image/png": "[encoded data removed]",
      "text/plain": [
       "<Figure size 432x288 with 1 Axes>"
      ]
     },
     "metadata": {
      "needs_background": "light"
     },
     "output_type": "display_data"
    },
    {
     "data": {
      "image/png": "[encoded data removed]",
      "text/plain": [
       "<Figure size 432x288 with 1 Axes>"
      ]
     },
     "metadata": {
      "needs_background": "light"
     },
     "output_type": "display_data"
    },
    {
     "data": {
      "text/plain": [
       "<Figure size 432x288 with 0 Axes>"
      ]
     },
     "metadata": {},
     "output_type": "display_data"
    }
   ],
   "source": [
    "import matplotlib.image  as mpimg\n",
    "import matplotlib.pyplot as plt\n",
    "\n",
    "#-----------------------------------------------------------\n",
    "# Retrieve a list of list results on training and test data\n",
    "# sets for each training epoch\n",
    "#-----------------------------------------------------------\n",
    "acc=history.history['acc']\n",
    "val_acc=history.history['val_acc']\n",
    "loss=history.history['loss']\n",
    "val_loss=history.history['val_loss']\n",
    "\n",
    "epochs=range(len(acc)) # Get number of epochs\n",
    "\n",
    "#------------------------------------------------\n",
    "# Plot training and validation accuracy per epoch\n",
    "#------------------------------------------------\n",
    "plt.plot(epochs, acc, 'r')\n",
    "plt.plot(epochs, val_acc, 'b')\n",
    "plt.title('Training and validation accuracy')\n",
    "plt.xlabel(\"Epochs\")\n",
    "plt.ylabel(\"Accuracy\")\n",
    "plt.legend([\"Accuracy\", \"Validation Accuracy\"])\n",
    "\n",
    "plt.figure()\n",
    "\n",
    "#------------------------------------------------\n",
    "# Plot training and validation loss per epoch\n",
    "#------------------------------------------------\n",
    "plt.plot(epochs, loss, 'r')\n",
    "plt.plot(epochs, val_loss, 'b')\n",
    "plt.title('Training and validation loss')\n",
    "plt.xlabel(\"Epochs\")\n",
    "plt.ylabel(\"Loss\")\n",
    "plt.legend([\"Loss\", \"Validation Loss\"])\n",
    "\n",
    "plt.figure()\n",
    "\n",
    "\n",
    "# Expected Output\n",
    "# A chart where the validation loss does not increase sharply!"
   ]
  },
  {
   "cell_type": "code",
   "execution_count": null,
   "metadata": {},
   "outputs": [],
   "source": []
  },
  {
   "cell_type": "code",
   "execution_count": null,
   "metadata": {},
   "outputs": [],
   "source": []
  },
  {
   "cell_type": "code",
   "execution_count": null,
   "metadata": {},
   "outputs": [],
   "source": []
  },
  {
   "cell_type": "code",
   "execution_count": null,
   "metadata": {},
   "outputs": [],
   "source": []
  },
  {
   "cell_type": "code",
   "execution_count": null,
   "metadata": {},
   "outputs": [],
   "source": []
  },
  {
   "cell_type": "code",
   "execution_count": null,
   "metadata": {},
   "outputs": [],
   "source": []
  },
  {
   "cell_type": "code",
   "execution_count": null,
   "metadata": {},
   "outputs": [],
   "source": []
  },
  {
   "cell_type": "code",
   "execution_count": null,
   "metadata": {},
   "outputs": [],
   "source": []
  }
 ],
 "metadata": {
  "kernelspec": {
   "display_name": "Python 3",
   "language": "python",
   "name": "python3"
  },
  "language_info": {
   "codemirror_mode": {
    "name": "ipython",
    "version": 3
   },
   "file_extension": ".py",
   "mimetype": "text/x-python",
   "name": "python",
   "nbconvert_exporter": "python",
   "pygments_lexer": "ipython3",
   "version": "3.5.6"
  }
 },
 "nbformat": 4,
 "nbformat_minor": 2
}
