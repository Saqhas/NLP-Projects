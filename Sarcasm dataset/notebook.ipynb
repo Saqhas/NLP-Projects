{
 "cells": [
  {
   "cell_type": "code",
   "execution_count": 1,
   "metadata": {},
   "outputs": [],
   "source": [
    "import json\n",
    "import tensorflow as tf\n",
    "\n",
    "from tensorflow.keras.preprocessing.text import Tokenizer\n",
    "from tensorflow.keras.preprocessing.sequence import pad_sequences"
   ]
  },
  {
   "cell_type": "code",
   "execution_count": 2,
   "metadata": {},
   "outputs": [],
   "source": [
    "vocab_size = 10000\n",
    "embedding_dim = 16\n",
    "max_length = 32\n",
    "trunc_type = 'post'\n",
    "padding_type = 'post'\n",
    "oov_tok = '<OOV>'\n",
    "training_size = 20000"
   ]
  },
  {
   "cell_type": "code",
   "execution_count": 3,
   "metadata": {},
   "outputs": [
    {
     "name": "stdout",
     "output_type": "stream",
     "text": [
      "--2019-12-14 16:04:18--  https://storage.googleapis.com/laurencemoroney-blog.appspot.com/sarcasm.json\n",
      "Resolving storage.googleapis.com (storage.googleapis.com)... 172.217.26.176, 2404:6800:4007:801::2010\n",
      "Connecting to storage.googleapis.com (storage.googleapis.com)|172.217.26.176|:443... connected.\n",
      "HTTP request sent, awaiting response... 200 OK\n",
      "Length: 5643545 (5.4M) [application/json]\n",
      "Saving to: ‘/tmp/sarcasm.json’\n",
      "\n",
      "/tmp/sarcasm.json   100%[===================>]   5.38M  1.08MB/s    in 8.0s    \n",
      "\n",
      "2019-12-14 16:04:27 (685 KB/s) - ‘/tmp/sarcasm.json’ saved [5643545/5643545]\n",
      "\n"
     ]
    }
   ],
   "source": [
    "!wget --no-check-certificate \\\n",
    "    https://storage.googleapis.com/laurencemoroney-blog.appspot.com/sarcasm.json \\\n",
    "    -O /tmp/sarcasm.json\n",
    "    \n"
   ]
  },
  {
   "cell_type": "code",
   "execution_count": 4,
   "metadata": {},
   "outputs": [],
   "source": [
    "with open('/tmp/sarcasm.json','r') as f:\n",
    "    datastore = json.load(f)\n",
    "    \n",
    "sentences = []\n",
    "labels = []\n",
    "urls = []\n",
    "\n",
    "for item in datastore:\n",
    "    sentences.append(item['headline'])\n",
    "    labels.append(item['is_sarcastic'])\n",
    "    urls.append(item['article_link'])"
   ]
  },
  {
   "cell_type": "code",
   "execution_count": 5,
   "metadata": {},
   "outputs": [],
   "source": [
    "training_sentences = sentences[0:training_size]\n",
    "testing_sentences = sentences[training_size:]\n",
    "training_labels = labels[0:training_size]\n",
    "testing_labels = labels[training_size:]"
   ]
  },
  {
   "cell_type": "code",
   "execution_count": 7,
   "metadata": {},
   "outputs": [],
   "source": [
    "tokenizer = Tokenizer(num_words=vocab_size,oov_token=oov_tok)\n",
    "tokenizer.fit_on_texts(training_sentences)\n",
    "word_index = tokenizer.word_index\n",
    "training_sequences = tokenizer.texts_to_sequences(training_sentences)\n",
    "training_padded = pad_sequences(training_sequences,maxlen=max_length,truncating=trunc_type,padding=padding_type)\n",
    "\n",
    "testing_sequences = tokenizer.texts_to_sequences(testing_sentences)\n",
    "testing_padded = pad_sequences(testing_sequences,maxlen=max_length,truncating=trunc_type,padding=padding_type)"
   ]
  },
  {
   "cell_type": "code",
   "execution_count": 9,
   "metadata": {},
   "outputs": [
    {
     "name": "stdout",
     "output_type": "stream",
     "text": [
      "Model: \"sequential_1\"\n",
      "_________________________________________________________________\n",
      "Layer (type)                 Output Shape              Param #   \n",
      "=================================================================\n",
      "embedding_1 (Embedding)      (None, 32, 16)            160000    \n",
      "_________________________________________________________________\n",
      "global_average_pooling1d (Gl (None, 16)                0         \n",
      "_________________________________________________________________\n",
      "dense_2 (Dense)              (None, 24)                408       \n",
      "_________________________________________________________________\n",
      "dense_3 (Dense)              (None, 1)                 25        \n",
      "=================================================================\n",
      "Total params: 160,433\n",
      "Trainable params: 160,433\n",
      "Non-trainable params: 0\n",
      "_________________________________________________________________\n"
     ]
    }
   ],
   "source": [
    "model = tf.keras.Sequential([\n",
    "    tf.keras.layers.Embedding(vocab_size,embedding_dim,input_length = max_length),\n",
    "    tf.keras.layers.GlobalAveragePooling1D(),\n",
    "    tf.keras.layers.Dense(24,activation='relu'),\n",
    "    tf.keras.layers.Dense(1,activation='sigmoid')\n",
    "])\n",
    "model.compile(loss='binary_crossentropy',optimizer='adam',metrics=['accuracy'])\n",
    "model.summary()"
   ]
  },
  {
   "cell_type": "code",
   "execution_count": 11,
   "metadata": {
    "scrolled": true
   },
   "outputs": [
    {
     "name": "stdout",
     "output_type": "stream",
     "text": [
      "Train on 20000 samples, validate on 6709 samples\n",
      "Epoch 1/30\n",
      "20000/20000 [==============================] - 5s 267us/sample - loss: 0.1650 - acc: 0.9379 - val_loss: 0.3783 - val_acc: 0.8526\n",
      "Epoch 2/30\n",
      "20000/20000 [==============================] - 7s 329us/sample - loss: 0.1406 - acc: 0.9494 - val_loss: 0.4239 - val_acc: 0.8393\n",
      "Epoch 3/30\n",
      "20000/20000 [==============================] - 4s 201us/sample - loss: 0.1215 - acc: 0.9582 - val_loss: 0.4434 - val_acc: 0.8444\n",
      "Epoch 4/30\n",
      "20000/20000 [==============================] - 4s 194us/sample - loss: 0.1058 - acc: 0.9642 - val_loss: 0.4874 - val_acc: 0.8384\n",
      "Epoch 5/30\n",
      "20000/20000 [==============================] - 4s 183us/sample - loss: 0.0914 - acc: 0.9696 - val_loss: 0.5161 - val_acc: 0.8372\n",
      "Epoch 6/30\n",
      "20000/20000 [==============================] - 4s 207us/sample - loss: 0.0810 - acc: 0.9740 - val_loss: 0.5610 - val_acc: 0.8346\n",
      "Epoch 7/30\n",
      "20000/20000 [==============================] - 4s 200us/sample - loss: 0.0706 - acc: 0.9778 - val_loss: 0.6080 - val_acc: 0.8320\n",
      "Epoch 8/30\n",
      "20000/20000 [==============================] - 4s 196us/sample - loss: 0.0631 - acc: 0.9804 - val_loss: 0.6966 - val_acc: 0.8237\n",
      "Epoch 9/30\n",
      "20000/20000 [==============================] - 4s 196us/sample - loss: 0.0546 - acc: 0.9830 - val_loss: 0.7127 - val_acc: 0.8255\n",
      "Epoch 10/30\n",
      "20000/20000 [==============================] - 4s 185us/sample - loss: 0.0489 - acc: 0.9857 - val_loss: 0.7723 - val_acc: 0.8210\n",
      "Epoch 11/30\n",
      "20000/20000 [==============================] - 4s 190us/sample - loss: 0.0435 - acc: 0.9873 - val_loss: 0.8273 - val_acc: 0.8186\n",
      "Epoch 12/30\n",
      "20000/20000 [==============================] - 4s 194us/sample - loss: 0.0385 - acc: 0.9891 - val_loss: 0.8759 - val_acc: 0.8177\n",
      "Epoch 13/30\n",
      "20000/20000 [==============================] - 4s 182us/sample - loss: 0.0339 - acc: 0.9905 - val_loss: 0.9334 - val_acc: 0.8149\n",
      "Epoch 14/30\n",
      "20000/20000 [==============================] - 4s 190us/sample - loss: 0.0308 - acc: 0.9916 - val_loss: 1.0320 - val_acc: 0.8147\n",
      "Epoch 15/30\n",
      "20000/20000 [==============================] - 4s 183us/sample - loss: 0.0272 - acc: 0.9929 - val_loss: 1.0494 - val_acc: 0.8144\n",
      "Epoch 16/30\n",
      "20000/20000 [==============================] - 4s 180us/sample - loss: 0.0238 - acc: 0.9937 - val_loss: 1.1071 - val_acc: 0.8100\n",
      "Epoch 17/30\n",
      "20000/20000 [==============================] - 3s 173us/sample - loss: 0.0205 - acc: 0.9943 - val_loss: 1.1583 - val_acc: 0.8092\n",
      "Epoch 18/30\n",
      "20000/20000 [==============================] - 4s 194us/sample - loss: 0.0198 - acc: 0.9947 - val_loss: 1.2166 - val_acc: 0.8082\n",
      "Epoch 19/30\n",
      "20000/20000 [==============================] - 4s 184us/sample - loss: 0.0168 - acc: 0.9959 - val_loss: 1.2957 - val_acc: 0.8092\n",
      "Epoch 20/30\n",
      "20000/20000 [==============================] - 4s 189us/sample - loss: 0.0162 - acc: 0.9959 - val_loss: 1.3292 - val_acc: 0.8071\n",
      "Epoch 21/30\n",
      "20000/20000 [==============================] - 4s 186us/sample - loss: 0.0142 - acc: 0.9964 - val_loss: 1.4179 - val_acc: 0.8070\n",
      "Epoch 22/30\n",
      "20000/20000 [==============================] - 4s 193us/sample - loss: 0.0124 - acc: 0.9968 - val_loss: 1.4390 - val_acc: 0.8068\n",
      "Epoch 23/30\n",
      "20000/20000 [==============================] - 4s 176us/sample - loss: 0.0126 - acc: 0.9966 - val_loss: 1.5315 - val_acc: 0.8061\n",
      "Epoch 24/30\n",
      "20000/20000 [==============================] - 3s 174us/sample - loss: 0.0112 - acc: 0.9972 - val_loss: 1.5783 - val_acc: 0.8043\n",
      "Epoch 25/30\n",
      "20000/20000 [==============================] - 4s 191us/sample - loss: 0.0095 - acc: 0.9974 - val_loss: 1.6163 - val_acc: 0.8050\n",
      "Epoch 26/30\n",
      "20000/20000 [==============================] - 4s 194us/sample - loss: 0.0086 - acc: 0.9980 - val_loss: 1.7407 - val_acc: 0.8047\n",
      "Epoch 27/30\n",
      "20000/20000 [==============================] - 4s 181us/sample - loss: 0.0091 - acc: 0.9975 - val_loss: 1.7295 - val_acc: 0.8027\n",
      "Epoch 28/30\n",
      "20000/20000 [==============================] - 4s 187us/sample - loss: 0.0075 - acc: 0.9984 - val_loss: 1.7389 - val_acc: 0.8050\n",
      "Epoch 29/30\n",
      "20000/20000 [==============================] - 4s 185us/sample - loss: 0.0071 - acc: 0.9985 - val_loss: 1.7939 - val_acc: 0.8012\n",
      "Epoch 30/30\n",
      "20000/20000 [==============================] - 4s 196us/sample - loss: 0.0074 - acc: 0.9977 - val_loss: 1.8651 - val_acc: 0.8037\n"
     ]
    },
    {
     "data": {
      "text/plain": [
       "<tensorflow.python.keras.callbacks.History at 0x7fdaf838ddd8>"
      ]
     },
     "execution_count": 11,
     "metadata": {},
     "output_type": "execute_result"
    }
   ],
   "source": [
    "num_epochs = 30\n",
    "model.fit(training_padded, training_labels, epochs=num_epochs, validation_data=(testing_padded, testing_labels))"
   ]
  },
  {
   "cell_type": "code",
   "execution_count": 12,
   "metadata": {},
   "outputs": [
    {
     "ename": "NameError",
     "evalue": "name 'history' is not defined",
     "output_type": "error",
     "traceback": [
      "\u001b[0;31m---------------------------------------------------------------------------\u001b[0m",
      "\u001b[0;31mNameError\u001b[0m                                 Traceback (most recent call last)",
      "\u001b[0;32m<ipython-input-12-cafbfab613a6>\u001b[0m in \u001b[0;36m<module>\u001b[0;34m()\u001b[0m\n\u001b[1;32m     11\u001b[0m     \u001b[0mplt\u001b[0m\u001b[0;34m.\u001b[0m\u001b[0mshow\u001b[0m\u001b[0;34m(\u001b[0m\u001b[0;34m)\u001b[0m\u001b[0;34m\u001b[0m\u001b[0m\n\u001b[1;32m     12\u001b[0m \u001b[0;34m\u001b[0m\u001b[0m\n\u001b[0;32m---> 13\u001b[0;31m \u001b[0mplot_graphs\u001b[0m\u001b[0;34m(\u001b[0m\u001b[0mhistory\u001b[0m\u001b[0;34m,\u001b[0m\u001b[0;34m'acc'\u001b[0m\u001b[0;34m)\u001b[0m\u001b[0;34m\u001b[0m\u001b[0m\n\u001b[0m\u001b[1;32m     14\u001b[0m \u001b[0mplot_graphs\u001b[0m\u001b[0;34m(\u001b[0m\u001b[0mhistory\u001b[0m\u001b[0;34m,\u001b[0m\u001b[0;34m'loss'\u001b[0m\u001b[0;34m)\u001b[0m\u001b[0;34m\u001b[0m\u001b[0m\n",
      "\u001b[0;31mNameError\u001b[0m: name 'history' is not defined"
     ]
    }
   ],
   "source": [
    "import matplotlib.pyplot as plt\n",
    "\n",
    "def plot_graphs(history,string):\n",
    "    plt.plot(history.history[string])\n",
    "    plt.plot(history.history['val_'+string])\n",
    "    \n",
    "    plt.xlabel('Epochs')\n",
    "    plt.ylabel(string)\n",
    "    \n",
    "    plt.legend([string,'val_'+string])\n",
    "    plt.show()\n",
    "    \n",
    "plot_graphs(history,'acc')\n",
    "plot_graphs(history,'loss')"
   ]
  },
  {
   "cell_type": "code",
   "execution_count": null,
   "metadata": {},
   "outputs": [],
   "source": []
  },
  {
   "cell_type": "code",
   "execution_count": null,
   "metadata": {},
   "outputs": [],
   "source": []
  },
  {
   "cell_type": "code",
   "execution_count": null,
   "metadata": {},
   "outputs": [],
   "source": []
  },
  {
   "cell_type": "code",
   "execution_count": null,
   "metadata": {},
   "outputs": [],
   "source": []
  },
  {
   "cell_type": "code",
   "execution_count": null,
   "metadata": {},
   "outputs": [],
   "source": []
  },
  {
   "cell_type": "code",
   "execution_count": null,
   "metadata": {},
   "outputs": [],
   "source": []
  },
  {
   "cell_type": "code",
   "execution_count": null,
   "metadata": {},
   "outputs": [],
   "source": []
  }
 ],
 "metadata": {
  "kernelspec": {
   "display_name": "Python 3",
   "language": "python",
   "name": "python3"
  },
  "language_info": {
   "codemirror_mode": {
    "name": "ipython",
    "version": 3
   },
   "file_extension": ".py",
   "mimetype": "text/x-python",
   "name": "python",
   "nbconvert_exporter": "python",
   "pygments_lexer": "ipython3",
   "version": "3.5.6"
  }
 },
 "nbformat": 4,
 "nbformat_minor": 2
}
